{
  "cells": [
    {
      "cell_type": "code",
      "execution_count": null,
      "metadata": {
        "collapsed": true,
        "pycharm": {}
      },
      "outputs": [],
      "source": "import pickle\nimport csv\nimport pandas as pd\nimport numpy as np"
    },
    {
      "cell_type": "code",
      "execution_count": null,
      "outputs": [],
      "source": "data_table_path \u003d \u0027/media/iap205/Data4T/Datasets/google-landmarks-dataset-v2/train.csv\u0027\npkl_output_path \u003d \u0027/media/iap205/Data4T/Datasets/google-landmarks-dataset-v2/test/\u0027 \\\n                      \u0027GL2-test/gnd_GL2-test.pkl\u0027\n",
      "metadata": {
        "pycharm": {
          "metadata": false,
          "name": "#%%\n"
        }
      }
    },
    {
      "cell_type": "code",
      "execution_count": null,
      "outputs": [],
      "source": "print(\"\u003e\u003e load {} file...\".format(data_table_path.split(\u0027/\u0027)[-1]))\ncsvfile \u003d open(data_table_path, \u0027r\u0027)\ncsvreader \u003d csv.reader(csvfile)\nid_url_class_list \u003d [line[:3] for line in csvreader][1:]\ncsvfile.close()\ntrain_temp \u003d [[id_url_class_list[i][0], id_url_class_list[i][2]] for i in range(len(id_url_class_list))]",
      "metadata": {
        "pycharm": {
          "metadata": false,
          "name": "#%%\n"
        }
      }
    },
    {
      "cell_type": "code",
      "execution_count": null,
      "outputs": [],
      "source": "shuffle \u003d np.random.permutation(len(train_temp))\ntrain \u003d []\nfor i in shuffle:\n    train.append(train_temp[i])\n",
      "metadata": {
        "pycharm": {
          "metadata": false,
          "name": "#%%\n"
        }
      }
    }
  ],
  "metadata": {
    "language_info": {
      "codemirror_mode": {
        "name": "ipython",
        "version": 2
      },
      "file_extension": ".py",
      "mimetype": "text/x-python",
      "name": "python",
      "nbconvert_exporter": "python",
      "pygments_lexer": "ipython2",
      "version": "2.7.6"
    },
    "kernelspec": {
      "name": "python3",
      "language": "python",
      "display_name": "Python 3"
    },
    "stem_cell": {
      "cell_type": "raw",
      "source": "",
      "metadata": {
        "pycharm": {
          "metadata": false
        }
      }
    }
  },
  "nbformat": 4,
  "nbformat_minor": 0
}